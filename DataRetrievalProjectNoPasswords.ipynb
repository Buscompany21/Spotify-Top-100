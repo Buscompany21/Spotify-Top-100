{
 "cells": [
  {
   "cell_type": "code",
   "execution_count": null,
   "metadata": {},
   "outputs": [],
   "source": [
    "# ****************************************************************\n",
    "# NOTE - In order to run this project, you need 5 different spotify login credentials.\n",
    "# I would link the login credentials that I used, but I don't believe they want them posted here.\n",
    "# \n",
    "# The projects still works if you want to use your own spotify login.\n",
    "# However, Spotify limits to the top 100 tracks so your output will only be 100 rows.\n",
    "#\n",
    "# If you would like to run the project for 5 logins do not select run all.\n",
    "# You will need to run each pill individually and deletete the .cache file \n",
    "# inbetween each User (User 1-5 are listed on the top of the note for each pill).\n",
    "# ****************************************************************\n",
    "import pandas as pd \n",
    "import json\n",
    "import os\n",
    "import spotipy\n",
    "from spotipy.oauth2 import SpotifyClientCredentials\n",
    "import spotipy.util as util\n",
    "print('Packages Imported')"
   ]
  },
  {
   "cell_type": "code",
   "execution_count": null,
   "metadata": {},
   "outputs": [],
   "source": [
    "# Set Spotify Credentials\n",
    "clientId = \"\"\n",
    "clientSecret = \"\"\n",
    "\n",
    "os.environ[\"SPOTIPY_CLIENT_ID\"] = clientId\n",
    "os.environ[\"SPOTIPY_CLIENT_SECRET\"] = clientSecret\n",
    "os.environ[\"SPOTIPY_REDIRECT_URI\"] = \"http://localhost:8888/callback\""
   ]
  },
  {
   "cell_type": "code",
   "execution_count": null,
   "metadata": {},
   "outputs": [],
   "source": [
    "# USER 1 - Logs into the first user's account because they can only pull the top 100 per user\n",
    "username = \"\"\n",
    "client_credentials_manager = SpotifyClientCredentials(client_id=clientId, client_secret=clientSecret) \n",
    "sp = spotipy.Spotify(client_credentials_manager=client_credentials_manager)\n",
    "scope = 'user-top-read'\n",
    "token = util.prompt_for_user_token(username, scope)\n",
    "\n",
    "if token:\n",
    "    sp = spotipy.Spotify(auth=token)\n",
    "else:\n",
    "    print(\"Can't get token for\", username)"
   ]
  },
  {
   "cell_type": "code",
   "execution_count": null,
   "metadata": {},
   "outputs": [],
   "source": [
    "# USER 1 - Pulls top 50 songs listened to information\n",
    "if token:\n",
    "    sp = spotipy.Spotify(auth=token)\n",
    "    results = sp.current_user_top_tracks(limit=50,offset=0,time_range='long_term')\n",
    "    for song in range(500):\n",
    "        list = []\n",
    "        list.append(results)\n",
    "        with open('top50_data.json', 'w', encoding='utf-8') as f:\n",
    "            json.dump(list, f, ensure_ascii=False, indent=4)\n",
    "else:\n",
    "    print(\"Can't get token for\", username)"
   ]
  },
  {
   "cell_type": "code",
   "execution_count": null,
   "metadata": {},
   "outputs": [],
   "source": [
    "#  USER 1 - Creates the json file with all the info for the top 50 songs\n",
    "with open('top50_data.json', errors='ignore') as f:\n",
    "  data = json.load(f)"
   ]
  },
  {
   "cell_type": "code",
   "execution_count": null,
   "metadata": {},
   "outputs": [],
   "source": [
    "# USER 1 - Adds top 50 songs to the lists which will later go in the dataframe\n",
    "list_of_results = data[0][\"items\"]\n",
    "list_of_song_names = []\n",
    "list_of_song_uri = []\n",
    "list_of_durations_ms = []\n",
    "list_of_explicit = []\n",
    "list_of_artist_names = []\n",
    "list_of_artist_uri = []\n",
    "list_of_albums = []\n",
    "list_of_album_covers = []\n",
    "list_of_popularity = []\n",
    "\n",
    "for result in list_of_results:\n",
    "    result[\"album\"]\n",
    "    list_of_songs = result[\"name\"]\n",
    "    list_of_song_names.append(list_of_songs)\n",
    "    song_uri = result[\"uri\"]\n",
    "    list_of_song_uri.append(song_uri)\n",
    "    list_of_duration = result[\"duration_ms\"]\n",
    "    list_of_durations_ms.append(list_of_duration)\n",
    "    song_explicit = result[\"explicit\"]\n",
    "    list_of_explicit.append(song_explicit)\n",
    "    this_artists_name = result[\"artists\"][0][\"name\"]\n",
    "    list_of_artist_names.append(this_artists_name)\n",
    "    this_artists_uri = result[\"artists\"][0][\"uri\"]\n",
    "    list_of_artist_uri.append(this_artists_uri)\n",
    "    this_album = result[\"album\"][\"name\"]\n",
    "    list_of_albums.append(this_album)\n",
    "    this_album_cover = result[\"album\"][\"images\"][0][\"url\"]\n",
    "    list_of_album_covers.append(this_album_cover)\n",
    "    song_popularity = result[\"popularity\"]\n",
    "    list_of_popularity.append(song_popularity)"
   ]
  },
  {
   "cell_type": "code",
   "execution_count": null,
   "metadata": {},
   "outputs": [],
   "source": [
    "# USER 1 - Adds top 50-100 songs from the first user\n",
    "if token:\n",
    "    sp = spotipy.Spotify(auth=token)\n",
    "    results = sp.current_user_top_tracks(limit=50,offset=49,time_range='long_term')\n",
    "    for song in range(500):\n",
    "        list = []\n",
    "        list.append(results)\n",
    "        with open('top50_data.json', 'w', encoding='utf-8') as f:\n",
    "            json.dump(list, f, ensure_ascii=False, indent=4)\n",
    "else:\n",
    "    print(\"Can't get token for\", username)"
   ]
  },
  {
   "cell_type": "code",
   "execution_count": null,
   "metadata": {},
   "outputs": [],
   "source": [
    "# USER 1 - Creates the json file with all the info for the top 50-100 songs\n",
    "with open('top50_data.json', errors='ignore') as f:\n",
    "  data = json.load(f)"
   ]
  },
  {
   "cell_type": "code",
   "execution_count": null,
   "metadata": {},
   "outputs": [],
   "source": [
    "# USER 1 - Adds top 50-100 songs to the lists which will later go in the dataframe\n",
    "for result in list_of_results:\n",
    "    result[\"album\"]\n",
    "    list_of_songs = result[\"name\"]\n",
    "    list_of_song_names.append(list_of_songs)\n",
    "    song_uri = result[\"uri\"]\n",
    "    list_of_song_uri.append(song_uri)\n",
    "    list_of_duration = result[\"duration_ms\"]\n",
    "    list_of_durations_ms.append(list_of_duration)\n",
    "    song_explicit = result[\"explicit\"]\n",
    "    list_of_explicit.append(song_explicit)\n",
    "    this_artists_name = result[\"artists\"][0][\"name\"]\n",
    "    list_of_artist_names.append(this_artists_name)\n",
    "    this_artists_uri = result[\"artists\"][0][\"uri\"]\n",
    "    list_of_artist_uri.append(this_artists_uri)\n",
    "    this_album = result[\"album\"][\"name\"]\n",
    "    list_of_albums.append(this_album)\n",
    "    this_album_cover = result[\"album\"][\"images\"][0][\"url\"]\n",
    "    list_of_album_covers.append(this_album_cover)\n",
    "    song_popularity = result[\"popularity\"]\n",
    "    list_of_popularity.append(song_popularity)"
   ]
  },
  {
   "cell_type": "code",
   "execution_count": null,
   "metadata": {},
   "outputs": [],
   "source": [
    "# USER 2 - Logs into the second user's account\n",
    "username = \"\"\n",
    "client_credentials_manager = SpotifyClientCredentials(client_id=clientId, client_secret=clientSecret) \n",
    "sp = spotipy.Spotify(client_credentials_manager=client_credentials_manager)\n",
    "scope = 'user-top-read'\n",
    "token = util.prompt_for_user_token(username, scope)\n",
    "\n",
    "if token:\n",
    "    sp = spotipy.Spotify(auth=token)\n",
    "else:\n",
    "    print(\"Can't get token for\", username)"
   ]
  },
  {
   "cell_type": "code",
   "execution_count": null,
   "metadata": {},
   "outputs": [],
   "source": [
    "# USER 2 - Pulls top 50 songs listened to information\n",
    "if token:\n",
    "    sp = spotipy.Spotify(auth=token)\n",
    "    results = sp.current_user_top_tracks(limit=50,offset=0,time_range='long_term')\n",
    "    for song in range(500):\n",
    "        list = []\n",
    "        list.append(results)\n",
    "        with open('top50_data.json', 'w', encoding='utf-8') as f:\n",
    "            json.dump(list, f, ensure_ascii=False, indent=4)\n",
    "else:\n",
    "    print(\"Can't get token for\", username)"
   ]
  },
  {
   "cell_type": "code",
   "execution_count": null,
   "metadata": {},
   "outputs": [],
   "source": [
    "#  USER 2 - Creates the json file with all the info for the top 50 songs\n",
    "with open('top50_data.json', errors='ignore') as f:\n",
    "  data = json.load(f)"
   ]
  },
  {
   "cell_type": "code",
   "execution_count": null,
   "metadata": {},
   "outputs": [],
   "source": [
    "# USER 2 - Adds top 50 songs to the lists which will later go in the dataframe\n",
    "list_of_results = data[0][\"items\"]\n",
    "list_of_song_names = []\n",
    "list_of_song_uri = []\n",
    "list_of_durations_ms = []\n",
    "list_of_explicit = []\n",
    "list_of_artist_names = []\n",
    "list_of_artist_uri = []\n",
    "list_of_albums = []\n",
    "list_of_album_covers = []\n",
    "list_of_popularity = []\n",
    "\n",
    "for result in list_of_results:\n",
    "    result[\"album\"]\n",
    "    list_of_songs = result[\"name\"]\n",
    "    list_of_song_names.append(list_of_songs)\n",
    "    song_uri = result[\"uri\"]\n",
    "    list_of_song_uri.append(song_uri)\n",
    "    list_of_duration = result[\"duration_ms\"]\n",
    "    list_of_durations_ms.append(list_of_duration)\n",
    "    song_explicit = result[\"explicit\"]\n",
    "    list_of_explicit.append(song_explicit)\n",
    "    this_artists_name = result[\"artists\"][0][\"name\"]\n",
    "    list_of_artist_names.append(this_artists_name)\n",
    "    this_artists_uri = result[\"artists\"][0][\"uri\"]\n",
    "    list_of_artist_uri.append(this_artists_uri)\n",
    "    this_album = result[\"album\"][\"name\"]\n",
    "    list_of_albums.append(this_album)\n",
    "    this_album_cover = result[\"album\"][\"images\"][0][\"url\"]\n",
    "    list_of_album_covers.append(this_album_cover)\n",
    "    song_popularity = result[\"popularity\"]\n",
    "    list_of_popularity.append(song_popularity)"
   ]
  },
  {
   "cell_type": "code",
   "execution_count": null,
   "metadata": {},
   "outputs": [],
   "source": [
    "# USER 2 - Adds top 50-100 songs\n",
    "if token:\n",
    "    sp = spotipy.Spotify(auth=token)\n",
    "    results = sp.current_user_top_tracks(limit=50,offset=49,time_range='long_term')\n",
    "    for song in range(500):\n",
    "        list = []\n",
    "        list.append(results)\n",
    "        with open('top50_data.json', 'w', encoding='utf-8') as f:\n",
    "            json.dump(list, f, ensure_ascii=False, indent=4)\n",
    "else:\n",
    "    print(\"Can't get token for\", username)"
   ]
  },
  {
   "cell_type": "code",
   "execution_count": null,
   "metadata": {},
   "outputs": [],
   "source": [
    "# USER 2 - Creates the json file with all the info for the top 50-100 songs\n",
    "with open('top50_data.json', errors='ignore') as f:\n",
    "  data = json.load(f)"
   ]
  },
  {
   "cell_type": "code",
   "execution_count": null,
   "metadata": {},
   "outputs": [],
   "source": [
    "# USER 2 - Adds top 50-100 songs to the lists which will later go in the dataframe\n",
    "for result in list_of_results:\n",
    "    result[\"album\"]\n",
    "    list_of_songs = result[\"name\"]\n",
    "    list_of_song_names.append(list_of_songs)\n",
    "    song_uri = result[\"uri\"]\n",
    "    list_of_song_uri.append(song_uri)\n",
    "    list_of_duration = result[\"duration_ms\"]\n",
    "    list_of_durations_ms.append(list_of_duration)\n",
    "    song_explicit = result[\"explicit\"]\n",
    "    list_of_explicit.append(song_explicit)\n",
    "    this_artists_name = result[\"artists\"][0][\"name\"]\n",
    "    list_of_artist_names.append(this_artists_name)\n",
    "    this_artists_uri = result[\"artists\"][0][\"uri\"]\n",
    "    list_of_artist_uri.append(this_artists_uri)\n",
    "    this_album = result[\"album\"][\"name\"]\n",
    "    list_of_albums.append(this_album)\n",
    "    this_album_cover = result[\"album\"][\"images\"][0][\"url\"]\n",
    "    list_of_album_covers.append(this_album_cover)\n",
    "    song_popularity = result[\"popularity\"]\n",
    "    list_of_popularity.append(song_popularity)"
   ]
  },
  {
   "cell_type": "code",
   "execution_count": null,
   "metadata": {},
   "outputs": [],
   "source": [
    "# USER 3 - Logs into the second user's account\n",
    "username = \"\"\n",
    "client_credentials_manager = SpotifyClientCredentials(client_id=clientId, client_secret=clientSecret) \n",
    "sp = spotipy.Spotify(client_credentials_manager=client_credentials_manager)\n",
    "scope = 'user-top-read'\n",
    "token = util.prompt_for_user_token(username, scope)\n",
    "\n",
    "if token:\n",
    "    sp = spotipy.Spotify(auth=token)\n",
    "else:\n",
    "    print(\"Can't get token for\", username)"
   ]
  },
  {
   "cell_type": "code",
   "execution_count": null,
   "metadata": {},
   "outputs": [],
   "source": [
    "# USER 3 - Pulls top 50 songs listened to information\n",
    "if token:\n",
    "    sp = spotipy.Spotify(auth=token)\n",
    "    results = sp.current_user_top_tracks(limit=50,offset=0,time_range='long_term')\n",
    "    for song in range(500):\n",
    "        list = []\n",
    "        list.append(results)\n",
    "        with open('top50_data.json', 'w', encoding='utf-8') as f:\n",
    "            json.dump(list, f, ensure_ascii=False, indent=4)\n",
    "else:\n",
    "    print(\"Can't get token for\", username)"
   ]
  },
  {
   "cell_type": "code",
   "execution_count": null,
   "metadata": {},
   "outputs": [],
   "source": [
    "#  USER 3 - Creates the json file with all the info for the top 50 songs\n",
    "with open('top50_data.json', errors='ignore') as f:\n",
    "  data = json.load(f)"
   ]
  },
  {
   "cell_type": "code",
   "execution_count": null,
   "metadata": {},
   "outputs": [],
   "source": [
    "# USER 3 - Adds top 50 songs to the lists which will later go in the dataframe\n",
    "list_of_results = data[0][\"items\"]\n",
    "list_of_song_names = []\n",
    "list_of_song_uri = []\n",
    "list_of_durations_ms = []\n",
    "list_of_explicit = []\n",
    "list_of_artist_names = []\n",
    "list_of_artist_uri = []\n",
    "list_of_albums = []\n",
    "list_of_album_covers = []\n",
    "list_of_popularity = []\n",
    "\n",
    "for result in list_of_results:\n",
    "    result[\"album\"]\n",
    "    list_of_songs = result[\"name\"]\n",
    "    list_of_song_names.append(list_of_songs)\n",
    "    song_uri = result[\"uri\"]\n",
    "    list_of_song_uri.append(song_uri)\n",
    "    list_of_duration = result[\"duration_ms\"]\n",
    "    list_of_durations_ms.append(list_of_duration)\n",
    "    song_explicit = result[\"explicit\"]\n",
    "    list_of_explicit.append(song_explicit)\n",
    "    this_artists_name = result[\"artists\"][0][\"name\"]\n",
    "    list_of_artist_names.append(this_artists_name)\n",
    "    this_artists_uri = result[\"artists\"][0][\"uri\"]\n",
    "    list_of_artist_uri.append(this_artists_uri)\n",
    "    this_album = result[\"album\"][\"name\"]\n",
    "    list_of_albums.append(this_album)\n",
    "    this_album_cover = result[\"album\"][\"images\"][0][\"url\"]\n",
    "    list_of_album_covers.append(this_album_cover)\n",
    "    song_popularity = result[\"popularity\"]\n",
    "    list_of_popularity.append(song_popularity)"
   ]
  },
  {
   "cell_type": "code",
   "execution_count": null,
   "metadata": {},
   "outputs": [],
   "source": [
    "# USER 3 - Adds top 50-100 songs\n",
    "if token:\n",
    "    sp = spotipy.Spotify(auth=token)\n",
    "    results = sp.current_user_top_tracks(limit=50,offset=49,time_range='long_term')\n",
    "    for song in range(500):\n",
    "        list = []\n",
    "        list.append(results)\n",
    "        with open('top50_data.json', 'w', encoding='utf-8') as f:\n",
    "            json.dump(list, f, ensure_ascii=False, indent=4)\n",
    "else:\n",
    "    print(\"Can't get token for\", username)"
   ]
  },
  {
   "cell_type": "code",
   "execution_count": null,
   "metadata": {},
   "outputs": [],
   "source": [
    "# USER 3 - Creates the json file with all the info for the top 50-100 songs\n",
    "with open('top50_data.json', errors='ignore') as f:\n",
    "  data = json.load(f)"
   ]
  },
  {
   "cell_type": "code",
   "execution_count": null,
   "metadata": {},
   "outputs": [],
   "source": [
    "# USER 3 - Adds top 50-100 songs to the lists which will later go in the dataframe\n",
    "for result in list_of_results:\n",
    "    result[\"album\"]\n",
    "    list_of_songs = result[\"name\"]\n",
    "    list_of_song_names.append(list_of_songs)\n",
    "    song_uri = result[\"uri\"]\n",
    "    list_of_song_uri.append(song_uri)\n",
    "    list_of_duration = result[\"duration_ms\"]\n",
    "    list_of_durations_ms.append(list_of_duration)\n",
    "    song_explicit = result[\"explicit\"]\n",
    "    list_of_explicit.append(song_explicit)\n",
    "    this_artists_name = result[\"artists\"][0][\"name\"]\n",
    "    list_of_artist_names.append(this_artists_name)\n",
    "    this_artists_uri = result[\"artists\"][0][\"uri\"]\n",
    "    list_of_artist_uri.append(this_artists_uri)\n",
    "    this_album = result[\"album\"][\"name\"]\n",
    "    list_of_albums.append(this_album)\n",
    "    this_album_cover = result[\"album\"][\"images\"][0][\"url\"]\n",
    "    list_of_album_covers.append(this_album_cover)\n",
    "    song_popularity = result[\"popularity\"]\n",
    "    list_of_popularity.append(song_popularity)"
   ]
  },
  {
   "cell_type": "code",
   "execution_count": null,
   "metadata": {},
   "outputs": [],
   "source": [
    "# USER 4 - Logs into the second user's account\n",
    "username = \"\"\n",
    "client_credentials_manager = SpotifyClientCredentials(client_id=clientId, client_secret=clientSecret) \n",
    "sp = spotipy.Spotify(client_credentials_manager=client_credentials_manager)\n",
    "scope = 'user-top-read'\n",
    "token = util.prompt_for_user_token(username, scope)\n",
    "\n",
    "if token:\n",
    "    sp = spotipy.Spotify(auth=token)\n",
    "else:\n",
    "    print(\"Can't get token for\", username)"
   ]
  },
  {
   "cell_type": "code",
   "execution_count": null,
   "metadata": {},
   "outputs": [],
   "source": [
    "# USER 4 - Pulls top 50 songs listened to information\n",
    "if token:\n",
    "    sp = spotipy.Spotify(auth=token)\n",
    "    results = sp.current_user_top_tracks(limit=50,offset=0,time_range='long_term')\n",
    "    for song in range(500):\n",
    "        list = []\n",
    "        list.append(results)\n",
    "        with open('top50_data.json', 'w', encoding='utf-8') as f:\n",
    "            json.dump(list, f, ensure_ascii=False, indent=4)\n",
    "else:\n",
    "    print(\"Can't get token for\", username)"
   ]
  },
  {
   "cell_type": "code",
   "execution_count": null,
   "metadata": {},
   "outputs": [],
   "source": [
    "#  USER 4 - Creates the json file with all the info for the top 50 songs\n",
    "with open('top50_data.json', errors='ignore') as f:\n",
    "  data = json.load(f)"
   ]
  },
  {
   "cell_type": "code",
   "execution_count": null,
   "metadata": {},
   "outputs": [],
   "source": [
    "# USER 4 - Adds top 50 songs to the lists which will later go in the dataframe\n",
    "list_of_results = data[0][\"items\"]\n",
    "list_of_song_names = []\n",
    "list_of_song_uri = []\n",
    "list_of_durations_ms = []\n",
    "list_of_explicit = []\n",
    "list_of_artist_names = []\n",
    "list_of_artist_uri = []\n",
    "list_of_albums = []\n",
    "list_of_album_covers = []\n",
    "list_of_popularity = []\n",
    "\n",
    "for result in list_of_results:\n",
    "    result[\"album\"]\n",
    "    list_of_songs = result[\"name\"]\n",
    "    list_of_song_names.append(list_of_songs)\n",
    "    song_uri = result[\"uri\"]\n",
    "    list_of_song_uri.append(song_uri)\n",
    "    list_of_duration = result[\"duration_ms\"]\n",
    "    list_of_durations_ms.append(list_of_duration)\n",
    "    song_explicit = result[\"explicit\"]\n",
    "    list_of_explicit.append(song_explicit)\n",
    "    this_artists_name = result[\"artists\"][0][\"name\"]\n",
    "    list_of_artist_names.append(this_artists_name)\n",
    "    this_artists_uri = result[\"artists\"][0][\"uri\"]\n",
    "    list_of_artist_uri.append(this_artists_uri)\n",
    "    this_album = result[\"album\"][\"name\"]\n",
    "    list_of_albums.append(this_album)\n",
    "    this_album_cover = result[\"album\"][\"images\"][0][\"url\"]\n",
    "    list_of_album_covers.append(this_album_cover)\n",
    "    song_popularity = result[\"popularity\"]\n",
    "    list_of_popularity.append(song_popularity)"
   ]
  },
  {
   "cell_type": "code",
   "execution_count": null,
   "metadata": {},
   "outputs": [],
   "source": [
    "# USER 4 - Adds top 50-100 songs\n",
    "if token:\n",
    "    sp = spotipy.Spotify(auth=token)\n",
    "    results = sp.current_user_top_tracks(limit=50,offset=49,time_range='long_term')\n",
    "    for song in range(500):\n",
    "        list = []\n",
    "        list.append(results)\n",
    "        with open('top50_data.json', 'w', encoding='utf-8') as f:\n",
    "            json.dump(list, f, ensure_ascii=False, indent=4)\n",
    "else:\n",
    "    print(\"Can't get token for\", username)"
   ]
  },
  {
   "cell_type": "code",
   "execution_count": null,
   "metadata": {},
   "outputs": [],
   "source": [
    "# USER 4 - Creates the json file with all the info for the top 50-100 songs\n",
    "with open('top50_data.json', errors='ignore') as f:\n",
    "  data = json.load(f)"
   ]
  },
  {
   "cell_type": "code",
   "execution_count": null,
   "metadata": {},
   "outputs": [],
   "source": [
    "# USER 4 - Adds top 50-100 songs to the lists which will later go in the dataframe\n",
    "for result in list_of_results:\n",
    "    result[\"album\"]\n",
    "    list_of_songs = result[\"name\"]\n",
    "    list_of_song_names.append(list_of_songs)\n",
    "    song_uri = result[\"uri\"]\n",
    "    list_of_song_uri.append(song_uri)\n",
    "    list_of_duration = result[\"duration_ms\"]\n",
    "    list_of_durations_ms.append(list_of_duration)\n",
    "    song_explicit = result[\"explicit\"]\n",
    "    list_of_explicit.append(song_explicit)\n",
    "    this_artists_name = result[\"artists\"][0][\"name\"]\n",
    "    list_of_artist_names.append(this_artists_name)\n",
    "    this_artists_uri = result[\"artists\"][0][\"uri\"]\n",
    "    list_of_artist_uri.append(this_artists_uri)\n",
    "    this_album = result[\"album\"][\"name\"]\n",
    "    list_of_albums.append(this_album)\n",
    "    this_album_cover = result[\"album\"][\"images\"][0][\"url\"]\n",
    "    list_of_album_covers.append(this_album_cover)\n",
    "    song_popularity = result[\"popularity\"]\n",
    "    list_of_popularity.append(song_popularity)"
   ]
  },
  {
   "cell_type": "code",
   "execution_count": null,
   "metadata": {},
   "outputs": [],
   "source": [
    "# USER 5 - Logs into the second user's account\n",
    "username = \"\"\n",
    "client_credentials_manager = SpotifyClientCredentials(client_id=clientId, client_secret=clientSecret) \n",
    "sp = spotipy.Spotify(client_credentials_manager=client_credentials_manager)\n",
    "scope = 'user-top-read'\n",
    "token = util.prompt_for_user_token(username, scope)\n",
    "\n",
    "if token:\n",
    "    sp = spotipy.Spotify(auth=token)\n",
    "else:\n",
    "    print(\"Can't get token for\", username)"
   ]
  },
  {
   "cell_type": "code",
   "execution_count": null,
   "metadata": {},
   "outputs": [],
   "source": [
    "# USER 5 - Pulls top 50 songs listened to information\n",
    "if token:\n",
    "    sp = spotipy.Spotify(auth=token)\n",
    "    results = sp.current_user_top_tracks(limit=50,offset=0,time_range='long_term')\n",
    "    for song in range(500):\n",
    "        list = []\n",
    "        list.append(results)\n",
    "        with open('top50_data.json', 'w', encoding='utf-8') as f:\n",
    "            json.dump(list, f, ensure_ascii=False, indent=4)\n",
    "else:\n",
    "    print(\"Can't get token for\", username)"
   ]
  },
  {
   "cell_type": "code",
   "execution_count": null,
   "metadata": {},
   "outputs": [],
   "source": [
    "#  USER 5 - Creates the json file with all the info for the top 50 songs\n",
    "with open('top50_data.json', errors='ignore') as f:\n",
    "  data = json.load(f)"
   ]
  },
  {
   "cell_type": "code",
   "execution_count": null,
   "metadata": {},
   "outputs": [],
   "source": [
    "# USER 5 - Adds top 50 songs to the lists which will later go in the dataframe\n",
    "list_of_results = data[0][\"items\"]\n",
    "list_of_song_names = []\n",
    "list_of_song_uri = []\n",
    "list_of_durations_ms = []\n",
    "list_of_explicit = []\n",
    "list_of_artist_names = []\n",
    "list_of_artist_uri = []\n",
    "list_of_albums = []\n",
    "list_of_album_covers = []\n",
    "list_of_popularity = []\n",
    "\n",
    "for result in list_of_results:\n",
    "    result[\"album\"]\n",
    "    list_of_songs = result[\"name\"]\n",
    "    list_of_song_names.append(list_of_songs)\n",
    "    song_uri = result[\"uri\"]\n",
    "    list_of_song_uri.append(song_uri)\n",
    "    list_of_duration = result[\"duration_ms\"]\n",
    "    list_of_durations_ms.append(list_of_duration)\n",
    "    song_explicit = result[\"explicit\"]\n",
    "    list_of_explicit.append(song_explicit)\n",
    "    this_artists_name = result[\"artists\"][0][\"name\"]\n",
    "    list_of_artist_names.append(this_artists_name)\n",
    "    this_artists_uri = result[\"artists\"][0][\"uri\"]\n",
    "    list_of_artist_uri.append(this_artists_uri)\n",
    "    this_album = result[\"album\"][\"name\"]\n",
    "    list_of_albums.append(this_album)\n",
    "    this_album_cover = result[\"album\"][\"images\"][0][\"url\"]\n",
    "    list_of_album_covers.append(this_album_cover)\n",
    "    song_popularity = result[\"popularity\"]\n",
    "    list_of_popularity.append(song_popularity)"
   ]
  },
  {
   "cell_type": "code",
   "execution_count": null,
   "metadata": {},
   "outputs": [],
   "source": [
    "# USER 5 - Adds top 50-100 songs\n",
    "if token:\n",
    "    sp = spotipy.Spotify(auth=token)\n",
    "    results = sp.current_user_top_tracks(limit=50,offset=49,time_range='long_term')\n",
    "    for song in range(500):\n",
    "        list = []\n",
    "        list.append(results)\n",
    "        with open('top50_data.json', 'w', encoding='utf-8') as f:\n",
    "            json.dump(list, f, ensure_ascii=False, indent=4)\n",
    "else:\n",
    "    print(\"Can't get token for\", username)"
   ]
  },
  {
   "cell_type": "code",
   "execution_count": null,
   "metadata": {},
   "outputs": [],
   "source": [
    "# USER 5 - Creates the json file with all the info for the top 50-100 songs\n",
    "with open('top50_data.json', errors='ignore') as f:\n",
    "  data = json.load(f)"
   ]
  },
  {
   "cell_type": "code",
   "execution_count": null,
   "metadata": {},
   "outputs": [],
   "source": [
    "# USER 5 - Adds top 50-100 songs to the lists which will later go in the dataframe\n",
    "for result in list_of_results:\n",
    "    result[\"album\"]\n",
    "    list_of_songs = result[\"name\"]\n",
    "    list_of_song_names.append(list_of_songs)\n",
    "    song_uri = result[\"uri\"]\n",
    "    list_of_song_uri.append(song_uri)\n",
    "    list_of_duration = result[\"duration_ms\"]\n",
    "    list_of_durations_ms.append(list_of_duration)\n",
    "    song_explicit = result[\"explicit\"]\n",
    "    list_of_explicit.append(song_explicit)\n",
    "    this_artists_name = result[\"artists\"][0][\"name\"]\n",
    "    list_of_artist_names.append(this_artists_name)\n",
    "    this_artists_uri = result[\"artists\"][0][\"uri\"]\n",
    "    list_of_artist_uri.append(this_artists_uri)\n",
    "    this_album = result[\"album\"][\"name\"]\n",
    "    list_of_albums.append(this_album)\n",
    "    this_album_cover = result[\"album\"][\"images\"][0][\"url\"]\n",
    "    list_of_album_covers.append(this_album_cover)\n",
    "    song_popularity = result[\"popularity\"]\n",
    "    list_of_popularity.append(song_popularity)"
   ]
  },
  {
   "cell_type": "code",
   "execution_count": null,
   "metadata": {},
   "outputs": [],
   "source": [
    "# Adds the list of the top 500 songs into a dataframe\n",
    "all_songs = pd.DataFrame(\n",
    "    {'song': list_of_song_names,\n",
    "     'song_uri': list_of_song_uri,\n",
    "     'duration_ms': list_of_durations_ms,\n",
    "     'explicit': list_of_explicit,\n",
    "     'artist': list_of_artist_names,\n",
    "     'artist_uri': list_of_artist_uri,\n",
    "     'album': list_of_albums,\n",
    "     'album_cover': list_of_album_covers,\n",
    "     'popularity': list_of_popularity\n",
    "     \n",
    "    })\n",
    "\n",
    "all_songs_saved = all_songs.to_csv('top500_songs.csv')\n",
    "all_songs"
   ]
  }
 ],
 "metadata": {
  "interpreter": {
   "hash": "1aa5200a32f5add23b129c5b7723041941075b19edd31a922a97f9f869b3ca1c"
  },
  "kernelspec": {
   "display_name": "Python 3.9.7 64-bit ('ml-venv': venv)",
   "language": "python",
   "name": "python3"
  },
  "language_info": {
   "codemirror_mode": {
    "name": "ipython",
    "version": 3
   },
   "file_extension": ".py",
   "mimetype": "text/x-python",
   "name": "python",
   "nbconvert_exporter": "python",
   "pygments_lexer": "ipython3",
   "version": "3.9.7"
  },
  "orig_nbformat": 4
 },
 "nbformat": 4,
 "nbformat_minor": 2
}
